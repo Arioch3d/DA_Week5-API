{
 "cells": [
  {
   "cell_type": "code",
   "execution_count": null,
   "id": "8e466bbf",
   "metadata": {},
   "outputs": [
    {
     "name": "stdout",
     "output_type": "stream",
     "text": [
      "Index(['Category', 'City', 'Country', 'Customer_Name', 'Manufacturer',\n",
      "       'Order_Date', 'Order_ID', 'Postal_Code', 'Product_Name', 'Region',\n",
      "       'Segment', 'Ship_Date', 'Ship_Mode', 'State', 'Sub-Category',\n",
      "       'Discount', 'Number_of_Records', 'Profit', 'Profit_Ratio', 'Quantity',\n",
      "       'Sales'],\n",
      "      dtype='object')\n"
     ]
    }
   ],
   "source": [
    "import pandas as pd\n",
    "import matplotlib.pyplot as plt\n",
    "\n",
    "df = pd.read_excel('rawdata\\\\supermarket.xlsx')\n",
    "df.columns = df.columns.str.replace(' ', '_')\n",
    "column_names = df.columns\n",
    "print(column_names)\n",
    "#print(Sales)"
   ]
  },
  {
   "cell_type": "code",
   "execution_count": 3,
   "id": "7e244809",
   "metadata": {},
   "outputs": [
    {
     "name": "stdout",
     "output_type": "stream",
     "text": [
      "The year with the most items sold was: 2016\n"
     ]
    }
   ],
   "source": [
    "import pandas as pd\n",
    "df  = pd.read_excel('rawdata\\\\supermarket.xlsx')\n",
    "\n",
    "df = df.rename(columns={'Order Date': 'order_date'})\n",
    "df_PR = df.rename(columns={'Profit Ratio': 'Profit_Ratio'})\n",
    "df['Year'] = pd.to_datetime(df['order_date']).dt.year\n",
    "yearly_sales = df.groupby('Year')['Quantity'].count()\n",
    "year_max_sales = yearly_sales.idxmax()\n",
    "print(f\"The year with the most items sold was: {year_max_sales}\")"
   ]
  },
  {
   "cell_type": "code",
   "execution_count": 4,
   "id": "f390a018",
   "metadata": {},
   "outputs": [
    {
     "name": "stdout",
     "output_type": "stream",
     "text": [
      "49\n"
     ]
    }
   ],
   "source": [
    "\n",
    "number_of_states = df['State'].nunique()\n",
    "print(number_of_states)\n"
   ]
  },
  {
   "cell_type": "code",
   "execution_count": 5,
   "id": "e683ac6a",
   "metadata": {},
   "outputs": [
    {
     "name": "stdout",
     "output_type": "stream",
     "text": [
      "-275.0\n"
     ]
    }
   ],
   "source": [
    "\n",
    "smallest_profit_ratio = df_PR['Profit_Ratio'].min() * 100\n",
    "print(smallest_profit_ratio)"
   ]
  },
  {
   "cell_type": "code",
   "execution_count": 6,
   "id": "a63e24f0",
   "metadata": {},
   "outputs": [
    {
     "name": "stdout",
     "output_type": "stream",
     "text": [
      "The state with the most rows is: California\n",
      "State\n",
      "California              2001\n",
      "New York                1128\n",
      "Texas                    985\n",
      "Pennsylvania             587\n",
      "Washington               506\n",
      "Illinois                 492\n",
      "Ohio                     469\n",
      "Florida                  383\n",
      "Michigan                 255\n",
      "North Carolina           249\n",
      "Arizona                  224\n",
      "Virginia                 224\n",
      "Georgia                  184\n",
      "Tennessee                183\n",
      "Colorado                 182\n",
      "Indiana                  149\n",
      "Kentucky                 139\n",
      "Massachusetts            135\n",
      "New Jersey               130\n",
      "Oregon                   124\n",
      "Wisconsin                110\n",
      "Maryland                 105\n",
      "Delaware                  96\n",
      "Minnesota                 89\n",
      "Connecticut               82\n",
      "Oklahoma                  66\n",
      "Missouri                  66\n",
      "Alabama                   61\n",
      "Arkansas                  60\n",
      "Rhode Island              56\n",
      "Utah                      53\n",
      "Mississippi               53\n",
      "Louisiana                 42\n",
      "South Carolina            42\n",
      "Nevada                    39\n",
      "Nebraska                  38\n",
      "New Mexico                37\n",
      "Iowa                      30\n",
      "New Hampshire             27\n",
      "Kansas                    24\n",
      "Idaho                     21\n",
      "Montana                   15\n",
      "South Dakota              12\n",
      "Vermont                   11\n",
      "District of Columbia      10\n",
      "Maine                      8\n",
      "North Dakota               7\n",
      "West Virginia              4\n",
      "Wyoming                    1\n",
      "Name: count, dtype: int64\n"
     ]
    }
   ],
   "source": [
    "def state_with_most_rows(df, State):\n",
    "    state_counts = df[State].value_counts()\n",
    "    return state_counts.index[0]\n",
    "\n",
    "state_counts = df['State'].value_counts()\n",
    "most_rows_state = state_with_most_rows(df, 'State')\n",
    "print(f\"The state with the most rows is: {most_rows_state}\")\n",
    "print(state_counts)"
   ]
  },
  {
   "cell_type": "code",
   "execution_count": null,
   "id": "aec0de9d",
   "metadata": {},
   "outputs": [
    {
     "name": "stdout",
     "output_type": "stream",
     "text": [
      "Product_Name\n",
      "Cisco TelePresence System EX90 Videoconferencing Unit                          22638\n",
      "Canon imageCLASS 2200 Advanced Copier                                          19600\n",
      "HON 5400 Series Task Chairs for Big and Tall                                   18365\n",
      "Lexmark MX611dhe Monochrome Laser Printer                                      16830\n",
      "Fellowes PB500 Electric Punch Plastic Comb Binding Machine with Manual Bind    13473\n",
      "Name: Sales, dtype: int64\n",
      "                                                    Sales  Count\n",
      "Product_Name                                                    \n",
      "\"While you Were Out\" Message Book, One Form per...     18      2\n",
      "#10 Gummed Flap White Envelopes, 100/Box               17      2\n",
      "#10 Self-Seal White Envelopes                           9      1\n",
      "#10 White Business Envelopes,4 1/8 x 9 1/2             51      2\n",
      "#10- 4 1/8\" x 9 1/2\" Recycled Envelopes               147      4\n",
      "...                                                   ...    ...\n",
      "iKross Bluetooth Portable Keyboard + Cell Phone...    101      2\n",
      "iOttie HLCRIO102 Car Mount                             56      3\n",
      "iOttie XL Car Mount                                   224      2\n",
      "invisibleSHIELD by ZAGG Smudge-Free Screen Prot...    262      5\n",
      "netTALK DUO VoIP Telephone Service                   1008      6\n",
      "\n",
      "[1657 rows x 2 columns]\n"
     ]
    },
    {
     "ename": "KeyError",
     "evalue": "'Product_Name'",
     "output_type": "error",
     "traceback": [
      "\u001b[31m---------------------------------------------------------------------------\u001b[39m",
      "\u001b[31mKeyError\u001b[39m                                  Traceback (most recent call last)",
      "\u001b[36mFile \u001b[39m\u001b[32mc:\\Users\\charl\\AppData\\Local\\Programs\\Python\\Python313\\Lib\\site-packages\\pandas\\core\\indexes\\base.py:3805\u001b[39m, in \u001b[36mIndex.get_loc\u001b[39m\u001b[34m(self, key)\u001b[39m\n\u001b[32m   3804\u001b[39m \u001b[38;5;28;01mtry\u001b[39;00m:\n\u001b[32m-> \u001b[39m\u001b[32m3805\u001b[39m     \u001b[38;5;28;01mreturn\u001b[39;00m \u001b[38;5;28;43mself\u001b[39;49m\u001b[43m.\u001b[49m\u001b[43m_engine\u001b[49m\u001b[43m.\u001b[49m\u001b[43mget_loc\u001b[49m\u001b[43m(\u001b[49m\u001b[43mcasted_key\u001b[49m\u001b[43m)\u001b[49m\n\u001b[32m   3806\u001b[39m \u001b[38;5;28;01mexcept\u001b[39;00m \u001b[38;5;167;01mKeyError\u001b[39;00m \u001b[38;5;28;01mas\u001b[39;00m err:\n",
      "\u001b[36mFile \u001b[39m\u001b[32mindex.pyx:167\u001b[39m, in \u001b[36mpandas._libs.index.IndexEngine.get_loc\u001b[39m\u001b[34m()\u001b[39m\n",
      "\u001b[36mFile \u001b[39m\u001b[32mindex.pyx:196\u001b[39m, in \u001b[36mpandas._libs.index.IndexEngine.get_loc\u001b[39m\u001b[34m()\u001b[39m\n",
      "\u001b[36mFile \u001b[39m\u001b[32mpandas\\\\_libs\\\\hashtable_class_helper.pxi:7081\u001b[39m, in \u001b[36mpandas._libs.hashtable.PyObjectHashTable.get_item\u001b[39m\u001b[34m()\u001b[39m\n",
      "\u001b[36mFile \u001b[39m\u001b[32mpandas\\\\_libs\\\\hashtable_class_helper.pxi:7089\u001b[39m, in \u001b[36mpandas._libs.hashtable.PyObjectHashTable.get_item\u001b[39m\u001b[34m()\u001b[39m\n",
      "\u001b[31mKeyError\u001b[39m: 'Product_Name'",
      "\nThe above exception was the direct cause of the following exception:\n",
      "\u001b[31mKeyError\u001b[39m                                  Traceback (most recent call last)",
      "\u001b[36mCell\u001b[39m\u001b[36m \u001b[39m\u001b[32mIn[42]\u001b[39m\u001b[32m, line 12\u001b[39m\n\u001b[32m     10\u001b[39m \u001b[38;5;28mprint\u001b[39m(result)\n\u001b[32m     11\u001b[39m plt.figure(figsize=(\u001b[32m10\u001b[39m, \u001b[32m6\u001b[39m))\n\u001b[32m---> \u001b[39m\u001b[32m12\u001b[39m plt.bar(\u001b[43mtop_5_products\u001b[49m\u001b[43m[\u001b[49m\u001b[33;43m'\u001b[39;49m\u001b[33;43mProduct_Name\u001b[39;49m\u001b[33;43m'\u001b[39;49m\u001b[43m]\u001b[49m, top_5_products[\u001b[33m'\u001b[39m\u001b[33mSales\u001b[39m\u001b[33m'\u001b[39m], color=\u001b[33m'\u001b[39m\u001b[33mskyblue\u001b[39m\u001b[33m'\u001b[39m)\n\u001b[32m     13\u001b[39m plt.xlabel(\u001b[33m'\u001b[39m\u001b[33mProduct\u001b[39m\u001b[33m'\u001b[39m)\n\u001b[32m     14\u001b[39m plt.ylabel(\u001b[33m'\u001b[39m\u001b[33mProfit\u001b[39m\u001b[33m'\u001b[39m)\n",
      "\u001b[36mFile \u001b[39m\u001b[32mc:\\Users\\charl\\AppData\\Local\\Programs\\Python\\Python313\\Lib\\site-packages\\pandas\\core\\series.py:1121\u001b[39m, in \u001b[36mSeries.__getitem__\u001b[39m\u001b[34m(self, key)\u001b[39m\n\u001b[32m   1118\u001b[39m     \u001b[38;5;28;01mreturn\u001b[39;00m \u001b[38;5;28mself\u001b[39m._values[key]\n\u001b[32m   1120\u001b[39m \u001b[38;5;28;01melif\u001b[39;00m key_is_scalar:\n\u001b[32m-> \u001b[39m\u001b[32m1121\u001b[39m     \u001b[38;5;28;01mreturn\u001b[39;00m \u001b[38;5;28;43mself\u001b[39;49m\u001b[43m.\u001b[49m\u001b[43m_get_value\u001b[49m\u001b[43m(\u001b[49m\u001b[43mkey\u001b[49m\u001b[43m)\u001b[49m\n\u001b[32m   1123\u001b[39m \u001b[38;5;66;03m# Convert generator to list before going through hashable part\u001b[39;00m\n\u001b[32m   1124\u001b[39m \u001b[38;5;66;03m# (We will iterate through the generator there to check for slices)\u001b[39;00m\n\u001b[32m   1125\u001b[39m \u001b[38;5;28;01mif\u001b[39;00m is_iterator(key):\n",
      "\u001b[36mFile \u001b[39m\u001b[32mc:\\Users\\charl\\AppData\\Local\\Programs\\Python\\Python313\\Lib\\site-packages\\pandas\\core\\series.py:1237\u001b[39m, in \u001b[36mSeries._get_value\u001b[39m\u001b[34m(self, label, takeable)\u001b[39m\n\u001b[32m   1234\u001b[39m     \u001b[38;5;28;01mreturn\u001b[39;00m \u001b[38;5;28mself\u001b[39m._values[label]\n\u001b[32m   1236\u001b[39m \u001b[38;5;66;03m# Similar to Index.get_value, but we do not fall back to positional\u001b[39;00m\n\u001b[32m-> \u001b[39m\u001b[32m1237\u001b[39m loc = \u001b[38;5;28;43mself\u001b[39;49m\u001b[43m.\u001b[49m\u001b[43mindex\u001b[49m\u001b[43m.\u001b[49m\u001b[43mget_loc\u001b[49m\u001b[43m(\u001b[49m\u001b[43mlabel\u001b[49m\u001b[43m)\u001b[49m\n\u001b[32m   1239\u001b[39m \u001b[38;5;28;01mif\u001b[39;00m is_integer(loc):\n\u001b[32m   1240\u001b[39m     \u001b[38;5;28;01mreturn\u001b[39;00m \u001b[38;5;28mself\u001b[39m._values[loc]\n",
      "\u001b[36mFile \u001b[39m\u001b[32mc:\\Users\\charl\\AppData\\Local\\Programs\\Python\\Python313\\Lib\\site-packages\\pandas\\core\\indexes\\base.py:3812\u001b[39m, in \u001b[36mIndex.get_loc\u001b[39m\u001b[34m(self, key)\u001b[39m\n\u001b[32m   3807\u001b[39m     \u001b[38;5;28;01mif\u001b[39;00m \u001b[38;5;28misinstance\u001b[39m(casted_key, \u001b[38;5;28mslice\u001b[39m) \u001b[38;5;129;01mor\u001b[39;00m (\n\u001b[32m   3808\u001b[39m         \u001b[38;5;28misinstance\u001b[39m(casted_key, abc.Iterable)\n\u001b[32m   3809\u001b[39m         \u001b[38;5;129;01mand\u001b[39;00m \u001b[38;5;28many\u001b[39m(\u001b[38;5;28misinstance\u001b[39m(x, \u001b[38;5;28mslice\u001b[39m) \u001b[38;5;28;01mfor\u001b[39;00m x \u001b[38;5;129;01min\u001b[39;00m casted_key)\n\u001b[32m   3810\u001b[39m     ):\n\u001b[32m   3811\u001b[39m         \u001b[38;5;28;01mraise\u001b[39;00m InvalidIndexError(key)\n\u001b[32m-> \u001b[39m\u001b[32m3812\u001b[39m     \u001b[38;5;28;01mraise\u001b[39;00m \u001b[38;5;167;01mKeyError\u001b[39;00m(key) \u001b[38;5;28;01mfrom\u001b[39;00m\u001b[38;5;250m \u001b[39m\u001b[34;01merr\u001b[39;00m\n\u001b[32m   3813\u001b[39m \u001b[38;5;28;01mexcept\u001b[39;00m \u001b[38;5;167;01mTypeError\u001b[39;00m:\n\u001b[32m   3814\u001b[39m     \u001b[38;5;66;03m# If we have a listlike key, _check_indexing_error will raise\u001b[39;00m\n\u001b[32m   3815\u001b[39m     \u001b[38;5;66;03m#  InvalidIndexError. Otherwise we fall through and re-raise\u001b[39;00m\n\u001b[32m   3816\u001b[39m     \u001b[38;5;66;03m#  the TypeError.\u001b[39;00m\n\u001b[32m   3817\u001b[39m     \u001b[38;5;28mself\u001b[39m._check_indexing_error(key)\n",
      "\u001b[31mKeyError\u001b[39m: 'Product_Name'"
     ]
    },
    {
     "data": {
      "text/plain": [
       "<Figure size 1000x600 with 0 Axes>"
      ]
     },
     "metadata": {},
     "output_type": "display_data"
    }
   ],
   "source": [
    "#df = df.rename(columns={'Product Name': 'Product_Name'})\n",
    "#df['Sales'] = df['Sales'].replace({'\\$': '', ',': ''}, regex=True)\n",
    "#df['Sales'] = pd.to_numeric(df['Sales'], errors='coerce')\n",
    "\n",
    "result = df.groupby('Product_Name').agg({'Sales': 'sum', 'Quantity': 'count'})\n",
    "result = result.rename(columns={'Quantity': 'Count'})\n",
    "top_5_products = df.groupby('Product_Name')['Sales'].sum().nlargest(5)\n",
    "\n",
    "print(top_5_products)\n",
    "print(result)\n",
    "plt.figure(figsize=(10, 6))\n",
    "plt.bar(top_5_products['Product_Name'], top_5_products['Sales'], color='skyblue')\n",
    "plt.xlabel('Product')\n",
    "plt.ylabel('Profit')\n",
    "plt.title('Top 5 Products by Profit')\n",
    "plt.xticks(rotation=45)\n",
    "plt.tight_layout()\n",
    "plt.show()"
   ]
  },
  {
   "cell_type": "code",
   "execution_count": null,
   "id": "6eb0bcc4",
   "metadata": {},
   "outputs": [],
   "source": [
    "['Category', 'City', 'Country', 'Customer Name', 'Manufacturer',\n",
    "       'order_date', 'Order ID', 'Postal Code', 'Product Name', 'Region',\n",
    "       'Segment', 'Ship Date', 'Ship Mode', 'State', 'Sub-Category',\n",
    "       'Discount', 'Number of Records', 'Profit', 'Profit Ratio', 'Quantity',\n",
    "       'Sales'],"
   ]
  },
  {
   "cell_type": "code",
   "execution_count": null,
   "id": "96976152",
   "metadata": {},
   "outputs": [
    {
     "name": "stdout",
     "output_type": "stream",
     "text": [
      "The average discount is: 0.16%\n"
     ]
    }
   ],
   "source": [
    "#df['discount'] = df['original_price'] - df['discounted_price']\n",
    "df['Discount'] = (df['discount']/ df['original_price']) * 100\n",
    "average_discount = df['discount_percentage'].mean()\n",
    "print(f\"The average discount is: {average_discount:.2f}%\")"
   ]
  },
  {
   "cell_type": "code",
   "execution_count": 34,
   "id": "e8b8a787",
   "metadata": {},
   "outputs": [
    {
     "name": "stdout",
     "output_type": "stream",
     "text": [
      "int64\n"
     ]
    }
   ],
   "source": [
    "print(df['Postal_Code'].dtype)"
   ]
  },
  {
   "cell_type": "code",
   "execution_count": 37,
   "id": "4c0f3bd1",
   "metadata": {},
   "outputs": [
    {
     "name": "stdout",
     "output_type": "stream",
     "text": [
      "The discount percentage that yields the most items sold is: 0.20%\n",
      "Total items sold at this discount: 13660\n"
     ]
    }
   ],
   "source": [
    "df['Discount'] = pd.to_numeric(df['Discount'], errors='coerce')\n",
    "df['Quantity'] = pd.to_numeric(df['Quantity'], errors='coerce')\n",
    "\n",
    "\n",
    "# Remove rows with missing or NaN values in relevant columns\n",
    "df = df.dropna(subset=['Discount', 'Quantity'])\n",
    "\n",
    "# Group by discount and sum items sold\n",
    "\n",
    "df = df[df['Discount'] != 0]\n",
    "sales_by_discount = df.groupby('Discount')['Quantity'].sum()\n",
    "\n",
    "# Find the discount with the maximum sales\n",
    "best_discount = sales_by_discount.idxmax()\n",
    "max_items_sold = sales_by_discount.max()\n",
    "\n",
    "if not sales_by_discount.empty:\n",
    "    print(f\"The discount percentage that yields the most items sold is: {best_discount:.2f}%\")\n",
    "    print(f\"Total items sold at this discount: {max_items_sold}\")\n",
    "else:\n",
    "    print(\"No valid sales data found to perform analysis.\")"
   ]
  },
  {
   "cell_type": "code",
   "execution_count": 38,
   "id": "997c5af6",
   "metadata": {},
   "outputs": [
    {
     "name": "stdout",
     "output_type": "stream",
     "text": [
      "Category             0\n",
      "City                 0\n",
      "Country              0\n",
      "Customer_Name        0\n",
      "Manufacturer         0\n",
      "Order_Date           0\n",
      "Order_ID             0\n",
      "Postal_Code          0\n",
      "Product_Name         0\n",
      "Region               0\n",
      "Segment              0\n",
      "Ship_Date            0\n",
      "Ship_Mode            0\n",
      "State                0\n",
      "Sub-Category         0\n",
      "Discount             0\n",
      "Number_of_Records    0\n",
      "Profit               0\n",
      "Profit_Ratio         0\n",
      "Quantity             0\n",
      "Sales                0\n",
      "dtype: int64\n",
      "0\n"
     ]
    }
   ],
   "source": [
    "null_counts = df.isnull().sum()\n",
    "print(null_counts)\n",
    "\n",
    "total_null_count = df.isnull().sum().sum()\n",
    "print(total_null_count)"
   ]
  }
 ],
 "metadata": {
  "kernelspec": {
   "display_name": "Python 3",
   "language": "python",
   "name": "python3"
  },
  "language_info": {
   "codemirror_mode": {
    "name": "ipython",
    "version": 3
   },
   "file_extension": ".py",
   "mimetype": "text/x-python",
   "name": "python",
   "nbconvert_exporter": "python",
   "pygments_lexer": "ipython3",
   "version": "3.13.1"
  }
 },
 "nbformat": 4,
 "nbformat_minor": 5
}
